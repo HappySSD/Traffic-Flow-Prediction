{
 "cells": [
  {
   "cell_type": "code",
   "execution_count": 55,
   "metadata": {},
   "outputs": [],
   "source": [
    "import numpy as np\n",
    "import pandas as pd\n",
    "import csv"
   ]
  },
  {
   "cell_type": "code",
   "execution_count": 56,
   "metadata": {},
   "outputs": [],
   "source": [
    "path = \"/Users/ran/Desktop/traffic/data/PEMS03/PEMS03.npz\"\n",
    "data = np.load(path)"
   ]
  },
  {
   "cell_type": "code",
   "execution_count": 57,
   "metadata": {},
   "outputs": [
    {
     "output_type": "execute_result",
     "data": {
      "text/plain": [
       "        0     1      2      3     4      5      6     7     8      9    ...  \\\n",
       "0      20.0  20.0  182.0  182.0  91.0  182.0  136.0  91.0  91.0  136.0  ...   \n",
       "1      22.0  22.0  174.0  174.0  87.0  174.0  131.0  87.0  87.0  131.0  ...   \n",
       "2      22.0  22.0  183.0  183.0  92.0  183.0  139.0  92.0  92.0  139.0  ...   \n",
       "3      50.0  49.0  137.0  139.0  60.0  158.0  111.0  57.0  55.0   99.0  ...   \n",
       "4      37.0  35.0  128.0  123.0  54.0  131.0  111.0  46.0  52.0   78.0  ...   \n",
       "...     ...   ...    ...    ...   ...    ...    ...   ...   ...    ...  ...   \n",
       "26203  54.0  53.0  120.0  128.0  66.0  149.0  110.0  56.0  61.0   59.0  ...   \n",
       "26204  52.0  55.0  109.0  107.0  58.0  126.0  114.0  51.0  55.0   94.0  ...   \n",
       "26205  43.0  39.0  144.0  143.0  55.0  147.0   99.0  62.0  61.0   80.0  ...   \n",
       "26206  27.0  27.0  115.0  114.0  62.0  129.0   91.0  41.0  47.0   61.0  ...   \n",
       "26207  48.0  52.0  108.0  105.0  56.0  120.0  103.0  33.0  36.0   58.0  ...   \n",
       "\n",
       "         348    349   350   351    352    353   354    355    356   357  \n",
       "0      158.0   63.0  63.0  63.0  125.0  114.0  63.0   63.0  115.0  63.0  \n",
       "1      158.0   62.0  62.0  62.0  144.0  109.0  62.0   63.0  109.0  62.0  \n",
       "2      160.0   57.0  57.0  57.0  131.0  116.0  57.0   57.0  115.0  57.0  \n",
       "3      174.0  109.0  30.0  58.0  106.0  102.0  52.0  111.0   88.0  48.0  \n",
       "4      162.0   77.0  31.0  55.0  109.0  127.0  49.0  109.0   76.0  47.0  \n",
       "...      ...    ...   ...   ...    ...    ...   ...    ...    ...   ...  \n",
       "26203  185.0   63.0  35.0  67.0   51.0  147.0  59.0  134.0  144.0  48.0  \n",
       "26204  214.0   65.0  36.0  72.0   61.0  143.0  64.0  139.0  130.0  61.0  \n",
       "26205  219.0   89.0  32.0  55.0   61.0  132.0  57.0  124.0  104.0  47.0  \n",
       "26206  183.0   50.0  35.0  61.0   72.0  132.0  56.0  123.0  112.0  39.0  \n",
       "26207  175.0   62.0  34.0  52.0   41.0  108.0  56.0  134.0  115.0  38.0  \n",
       "\n",
       "[26208 rows x 358 columns]"
      ],
      "text/html": "<div>\n<style scoped>\n    .dataframe tbody tr th:only-of-type {\n        vertical-align: middle;\n    }\n\n    .dataframe tbody tr th {\n        vertical-align: top;\n    }\n\n    .dataframe thead th {\n        text-align: right;\n    }\n</style>\n<table border=\"1\" class=\"dataframe\">\n  <thead>\n    <tr style=\"text-align: right;\">\n      <th></th>\n      <th>0</th>\n      <th>1</th>\n      <th>2</th>\n      <th>3</th>\n      <th>4</th>\n      <th>5</th>\n      <th>6</th>\n      <th>7</th>\n      <th>8</th>\n      <th>9</th>\n      <th>...</th>\n      <th>348</th>\n      <th>349</th>\n      <th>350</th>\n      <th>351</th>\n      <th>352</th>\n      <th>353</th>\n      <th>354</th>\n      <th>355</th>\n      <th>356</th>\n      <th>357</th>\n    </tr>\n  </thead>\n  <tbody>\n    <tr>\n      <th>0</th>\n      <td>20.0</td>\n      <td>20.0</td>\n      <td>182.0</td>\n      <td>182.0</td>\n      <td>91.0</td>\n      <td>182.0</td>\n      <td>136.0</td>\n      <td>91.0</td>\n      <td>91.0</td>\n      <td>136.0</td>\n      <td>...</td>\n      <td>158.0</td>\n      <td>63.0</td>\n      <td>63.0</td>\n      <td>63.0</td>\n      <td>125.0</td>\n      <td>114.0</td>\n      <td>63.0</td>\n      <td>63.0</td>\n      <td>115.0</td>\n      <td>63.0</td>\n    </tr>\n    <tr>\n      <th>1</th>\n      <td>22.0</td>\n      <td>22.0</td>\n      <td>174.0</td>\n      <td>174.0</td>\n      <td>87.0</td>\n      <td>174.0</td>\n      <td>131.0</td>\n      <td>87.0</td>\n      <td>87.0</td>\n      <td>131.0</td>\n      <td>...</td>\n      <td>158.0</td>\n      <td>62.0</td>\n      <td>62.0</td>\n      <td>62.0</td>\n      <td>144.0</td>\n      <td>109.0</td>\n      <td>62.0</td>\n      <td>63.0</td>\n      <td>109.0</td>\n      <td>62.0</td>\n    </tr>\n    <tr>\n      <th>2</th>\n      <td>22.0</td>\n      <td>22.0</td>\n      <td>183.0</td>\n      <td>183.0</td>\n      <td>92.0</td>\n      <td>183.0</td>\n      <td>139.0</td>\n      <td>92.0</td>\n      <td>92.0</td>\n      <td>139.0</td>\n      <td>...</td>\n      <td>160.0</td>\n      <td>57.0</td>\n      <td>57.0</td>\n      <td>57.0</td>\n      <td>131.0</td>\n      <td>116.0</td>\n      <td>57.0</td>\n      <td>57.0</td>\n      <td>115.0</td>\n      <td>57.0</td>\n    </tr>\n    <tr>\n      <th>3</th>\n      <td>50.0</td>\n      <td>49.0</td>\n      <td>137.0</td>\n      <td>139.0</td>\n      <td>60.0</td>\n      <td>158.0</td>\n      <td>111.0</td>\n      <td>57.0</td>\n      <td>55.0</td>\n      <td>99.0</td>\n      <td>...</td>\n      <td>174.0</td>\n      <td>109.0</td>\n      <td>30.0</td>\n      <td>58.0</td>\n      <td>106.0</td>\n      <td>102.0</td>\n      <td>52.0</td>\n      <td>111.0</td>\n      <td>88.0</td>\n      <td>48.0</td>\n    </tr>\n    <tr>\n      <th>4</th>\n      <td>37.0</td>\n      <td>35.0</td>\n      <td>128.0</td>\n      <td>123.0</td>\n      <td>54.0</td>\n      <td>131.0</td>\n      <td>111.0</td>\n      <td>46.0</td>\n      <td>52.0</td>\n      <td>78.0</td>\n      <td>...</td>\n      <td>162.0</td>\n      <td>77.0</td>\n      <td>31.0</td>\n      <td>55.0</td>\n      <td>109.0</td>\n      <td>127.0</td>\n      <td>49.0</td>\n      <td>109.0</td>\n      <td>76.0</td>\n      <td>47.0</td>\n    </tr>\n    <tr>\n      <th>...</th>\n      <td>...</td>\n      <td>...</td>\n      <td>...</td>\n      <td>...</td>\n      <td>...</td>\n      <td>...</td>\n      <td>...</td>\n      <td>...</td>\n      <td>...</td>\n      <td>...</td>\n      <td>...</td>\n      <td>...</td>\n      <td>...</td>\n      <td>...</td>\n      <td>...</td>\n      <td>...</td>\n      <td>...</td>\n      <td>...</td>\n      <td>...</td>\n      <td>...</td>\n      <td>...</td>\n    </tr>\n    <tr>\n      <th>26203</th>\n      <td>54.0</td>\n      <td>53.0</td>\n      <td>120.0</td>\n      <td>128.0</td>\n      <td>66.0</td>\n      <td>149.0</td>\n      <td>110.0</td>\n      <td>56.0</td>\n      <td>61.0</td>\n      <td>59.0</td>\n      <td>...</td>\n      <td>185.0</td>\n      <td>63.0</td>\n      <td>35.0</td>\n      <td>67.0</td>\n      <td>51.0</td>\n      <td>147.0</td>\n      <td>59.0</td>\n      <td>134.0</td>\n      <td>144.0</td>\n      <td>48.0</td>\n    </tr>\n    <tr>\n      <th>26204</th>\n      <td>52.0</td>\n      <td>55.0</td>\n      <td>109.0</td>\n      <td>107.0</td>\n      <td>58.0</td>\n      <td>126.0</td>\n      <td>114.0</td>\n      <td>51.0</td>\n      <td>55.0</td>\n      <td>94.0</td>\n      <td>...</td>\n      <td>214.0</td>\n      <td>65.0</td>\n      <td>36.0</td>\n      <td>72.0</td>\n      <td>61.0</td>\n      <td>143.0</td>\n      <td>64.0</td>\n      <td>139.0</td>\n      <td>130.0</td>\n      <td>61.0</td>\n    </tr>\n    <tr>\n      <th>26205</th>\n      <td>43.0</td>\n      <td>39.0</td>\n      <td>144.0</td>\n      <td>143.0</td>\n      <td>55.0</td>\n      <td>147.0</td>\n      <td>99.0</td>\n      <td>62.0</td>\n      <td>61.0</td>\n      <td>80.0</td>\n      <td>...</td>\n      <td>219.0</td>\n      <td>89.0</td>\n      <td>32.0</td>\n      <td>55.0</td>\n      <td>61.0</td>\n      <td>132.0</td>\n      <td>57.0</td>\n      <td>124.0</td>\n      <td>104.0</td>\n      <td>47.0</td>\n    </tr>\n    <tr>\n      <th>26206</th>\n      <td>27.0</td>\n      <td>27.0</td>\n      <td>115.0</td>\n      <td>114.0</td>\n      <td>62.0</td>\n      <td>129.0</td>\n      <td>91.0</td>\n      <td>41.0</td>\n      <td>47.0</td>\n      <td>61.0</td>\n      <td>...</td>\n      <td>183.0</td>\n      <td>50.0</td>\n      <td>35.0</td>\n      <td>61.0</td>\n      <td>72.0</td>\n      <td>132.0</td>\n      <td>56.0</td>\n      <td>123.0</td>\n      <td>112.0</td>\n      <td>39.0</td>\n    </tr>\n    <tr>\n      <th>26207</th>\n      <td>48.0</td>\n      <td>52.0</td>\n      <td>108.0</td>\n      <td>105.0</td>\n      <td>56.0</td>\n      <td>120.0</td>\n      <td>103.0</td>\n      <td>33.0</td>\n      <td>36.0</td>\n      <td>58.0</td>\n      <td>...</td>\n      <td>175.0</td>\n      <td>62.0</td>\n      <td>34.0</td>\n      <td>52.0</td>\n      <td>41.0</td>\n      <td>108.0</td>\n      <td>56.0</td>\n      <td>134.0</td>\n      <td>115.0</td>\n      <td>38.0</td>\n    </tr>\n  </tbody>\n</table>\n<p>26208 rows × 358 columns</p>\n</div>"
     },
     "metadata": {},
     "execution_count": 57
    }
   ],
   "source": [
    "df = pd.DataFrame((data['data'].reshape(26208,358)))\n",
    "df"
   ]
  },
  {
   "cell_type": "code",
   "execution_count": 58,
   "metadata": {},
   "outputs": [],
   "source": [
    "sensor_distance = \"/Users/ran/Desktop/traffic/data/PEMS03/PEMS03.csv\"\n",
    "sensor_ids = \"/Users/ran/Desktop/traffic/data/PEMS03/PEMS03.txt\""
   ]
  },
  {
   "cell_type": "code",
   "execution_count": 59,
   "metadata": {},
   "outputs": [],
   "source": [
    "def get_adjacency_matrix(distance_df_filename, num_of_vertices, id_filename):\n",
    "    A = np.zeros((int(num_of_vertices), int(num_of_vertices)),\n",
    "                 dtype=np.float32)\n",
    "    \n",
    "    with open(id_filename, 'r') as f:\n",
    "        id_dict = {int(i): idx for idx, i in enumerate(f.read().strip().split('\\n'))}\n",
    "        \n",
    "    with open(distance_df_filename, 'r') as f:\n",
    "        f.readline()\n",
    "        reader = csv.reader(f)\n",
    "        for row in reader:\n",
    "            if len(row) != 3:\n",
    "                continue\n",
    "            i, j, distance = int(row[0]), int(row[1]), float(row[2])\n",
    "            A[id_dict[i], id_dict[j]] = 1\n",
    "            A[id_dict[j], id_dict[i]] = 1\n",
    "    return A"
   ]
  },
  {
   "cell_type": "code",
   "execution_count": 60,
   "metadata": {},
   "outputs": [
    {
     "output_type": "execute_result",
     "data": {
      "text/plain": [
       "     0    1    2    3    4    5    6    7    8    9    ...  348  349  350  \\\n",
       "0    0.0  1.0  0.0  0.0  0.0  0.0  0.0  0.0  0.0  0.0  ...  0.0  0.0  0.0   \n",
       "1    1.0  0.0  0.0  0.0  0.0  0.0  0.0  0.0  0.0  0.0  ...  0.0  0.0  0.0   \n",
       "2    0.0  0.0  0.0  1.0  0.0  0.0  0.0  0.0  0.0  0.0  ...  0.0  0.0  0.0   \n",
       "3    0.0  0.0  1.0  0.0  0.0  1.0  0.0  0.0  0.0  0.0  ...  0.0  0.0  0.0   \n",
       "4    0.0  0.0  0.0  0.0  0.0  0.0  0.0  0.0  0.0  0.0  ...  0.0  0.0  0.0   \n",
       "..   ...  ...  ...  ...  ...  ...  ...  ...  ...  ...  ...  ...  ...  ...   \n",
       "353  0.0  0.0  0.0  0.0  0.0  0.0  0.0  0.0  0.0  0.0  ...  0.0  0.0  0.0   \n",
       "354  0.0  0.0  0.0  0.0  0.0  0.0  0.0  0.0  0.0  0.0  ...  0.0  0.0  0.0   \n",
       "355  0.0  0.0  0.0  0.0  0.0  0.0  0.0  0.0  0.0  0.0  ...  0.0  0.0  0.0   \n",
       "356  0.0  0.0  0.0  0.0  0.0  0.0  0.0  0.0  0.0  0.0  ...  0.0  0.0  0.0   \n",
       "357  1.0  0.0  0.0  0.0  0.0  0.0  0.0  0.0  0.0  0.0  ...  0.0  0.0  0.0   \n",
       "\n",
       "     351  352  353  354  355  356  357  \n",
       "0    0.0  0.0  0.0  0.0  0.0  0.0  1.0  \n",
       "1    0.0  0.0  0.0  0.0  0.0  0.0  0.0  \n",
       "2    0.0  0.0  0.0  0.0  0.0  0.0  0.0  \n",
       "3    0.0  0.0  0.0  0.0  0.0  0.0  0.0  \n",
       "4    0.0  0.0  0.0  0.0  0.0  0.0  0.0  \n",
       "..   ...  ...  ...  ...  ...  ...  ...  \n",
       "353  0.0  0.0  0.0  0.0  0.0  0.0  0.0  \n",
       "354  0.0  0.0  0.0  0.0  0.0  0.0  0.0  \n",
       "355  0.0  0.0  0.0  0.0  0.0  1.0  0.0  \n",
       "356  0.0  0.0  0.0  0.0  1.0  0.0  0.0  \n",
       "357  0.0  0.0  0.0  0.0  0.0  0.0  0.0  \n",
       "\n",
       "[358 rows x 358 columns]"
      ],
      "text/html": "<div>\n<style scoped>\n    .dataframe tbody tr th:only-of-type {\n        vertical-align: middle;\n    }\n\n    .dataframe tbody tr th {\n        vertical-align: top;\n    }\n\n    .dataframe thead th {\n        text-align: right;\n    }\n</style>\n<table border=\"1\" class=\"dataframe\">\n  <thead>\n    <tr style=\"text-align: right;\">\n      <th></th>\n      <th>0</th>\n      <th>1</th>\n      <th>2</th>\n      <th>3</th>\n      <th>4</th>\n      <th>5</th>\n      <th>6</th>\n      <th>7</th>\n      <th>8</th>\n      <th>9</th>\n      <th>...</th>\n      <th>348</th>\n      <th>349</th>\n      <th>350</th>\n      <th>351</th>\n      <th>352</th>\n      <th>353</th>\n      <th>354</th>\n      <th>355</th>\n      <th>356</th>\n      <th>357</th>\n    </tr>\n  </thead>\n  <tbody>\n    <tr>\n      <th>0</th>\n      <td>0.0</td>\n      <td>1.0</td>\n      <td>0.0</td>\n      <td>0.0</td>\n      <td>0.0</td>\n      <td>0.0</td>\n      <td>0.0</td>\n      <td>0.0</td>\n      <td>0.0</td>\n      <td>0.0</td>\n      <td>...</td>\n      <td>0.0</td>\n      <td>0.0</td>\n      <td>0.0</td>\n      <td>0.0</td>\n      <td>0.0</td>\n      <td>0.0</td>\n      <td>0.0</td>\n      <td>0.0</td>\n      <td>0.0</td>\n      <td>1.0</td>\n    </tr>\n    <tr>\n      <th>1</th>\n      <td>1.0</td>\n      <td>0.0</td>\n      <td>0.0</td>\n      <td>0.0</td>\n      <td>0.0</td>\n      <td>0.0</td>\n      <td>0.0</td>\n      <td>0.0</td>\n      <td>0.0</td>\n      <td>0.0</td>\n      <td>...</td>\n      <td>0.0</td>\n      <td>0.0</td>\n      <td>0.0</td>\n      <td>0.0</td>\n      <td>0.0</td>\n      <td>0.0</td>\n      <td>0.0</td>\n      <td>0.0</td>\n      <td>0.0</td>\n      <td>0.0</td>\n    </tr>\n    <tr>\n      <th>2</th>\n      <td>0.0</td>\n      <td>0.0</td>\n      <td>0.0</td>\n      <td>1.0</td>\n      <td>0.0</td>\n      <td>0.0</td>\n      <td>0.0</td>\n      <td>0.0</td>\n      <td>0.0</td>\n      <td>0.0</td>\n      <td>...</td>\n      <td>0.0</td>\n      <td>0.0</td>\n      <td>0.0</td>\n      <td>0.0</td>\n      <td>0.0</td>\n      <td>0.0</td>\n      <td>0.0</td>\n      <td>0.0</td>\n      <td>0.0</td>\n      <td>0.0</td>\n    </tr>\n    <tr>\n      <th>3</th>\n      <td>0.0</td>\n      <td>0.0</td>\n      <td>1.0</td>\n      <td>0.0</td>\n      <td>0.0</td>\n      <td>1.0</td>\n      <td>0.0</td>\n      <td>0.0</td>\n      <td>0.0</td>\n      <td>0.0</td>\n      <td>...</td>\n      <td>0.0</td>\n      <td>0.0</td>\n      <td>0.0</td>\n      <td>0.0</td>\n      <td>0.0</td>\n      <td>0.0</td>\n      <td>0.0</td>\n      <td>0.0</td>\n      <td>0.0</td>\n      <td>0.0</td>\n    </tr>\n    <tr>\n      <th>4</th>\n      <td>0.0</td>\n      <td>0.0</td>\n      <td>0.0</td>\n      <td>0.0</td>\n      <td>0.0</td>\n      <td>0.0</td>\n      <td>0.0</td>\n      <td>0.0</td>\n      <td>0.0</td>\n      <td>0.0</td>\n      <td>...</td>\n      <td>0.0</td>\n      <td>0.0</td>\n      <td>0.0</td>\n      <td>0.0</td>\n      <td>0.0</td>\n      <td>0.0</td>\n      <td>0.0</td>\n      <td>0.0</td>\n      <td>0.0</td>\n      <td>0.0</td>\n    </tr>\n    <tr>\n      <th>...</th>\n      <td>...</td>\n      <td>...</td>\n      <td>...</td>\n      <td>...</td>\n      <td>...</td>\n      <td>...</td>\n      <td>...</td>\n      <td>...</td>\n      <td>...</td>\n      <td>...</td>\n      <td>...</td>\n      <td>...</td>\n      <td>...</td>\n      <td>...</td>\n      <td>...</td>\n      <td>...</td>\n      <td>...</td>\n      <td>...</td>\n      <td>...</td>\n      <td>...</td>\n      <td>...</td>\n    </tr>\n    <tr>\n      <th>353</th>\n      <td>0.0</td>\n      <td>0.0</td>\n      <td>0.0</td>\n      <td>0.0</td>\n      <td>0.0</td>\n      <td>0.0</td>\n      <td>0.0</td>\n      <td>0.0</td>\n      <td>0.0</td>\n      <td>0.0</td>\n      <td>...</td>\n      <td>0.0</td>\n      <td>0.0</td>\n      <td>0.0</td>\n      <td>0.0</td>\n      <td>0.0</td>\n      <td>0.0</td>\n      <td>0.0</td>\n      <td>0.0</td>\n      <td>0.0</td>\n      <td>0.0</td>\n    </tr>\n    <tr>\n      <th>354</th>\n      <td>0.0</td>\n      <td>0.0</td>\n      <td>0.0</td>\n      <td>0.0</td>\n      <td>0.0</td>\n      <td>0.0</td>\n      <td>0.0</td>\n      <td>0.0</td>\n      <td>0.0</td>\n      <td>0.0</td>\n      <td>...</td>\n      <td>0.0</td>\n      <td>0.0</td>\n      <td>0.0</td>\n      <td>0.0</td>\n      <td>0.0</td>\n      <td>0.0</td>\n      <td>0.0</td>\n      <td>0.0</td>\n      <td>0.0</td>\n      <td>0.0</td>\n    </tr>\n    <tr>\n      <th>355</th>\n      <td>0.0</td>\n      <td>0.0</td>\n      <td>0.0</td>\n      <td>0.0</td>\n      <td>0.0</td>\n      <td>0.0</td>\n      <td>0.0</td>\n      <td>0.0</td>\n      <td>0.0</td>\n      <td>0.0</td>\n      <td>...</td>\n      <td>0.0</td>\n      <td>0.0</td>\n      <td>0.0</td>\n      <td>0.0</td>\n      <td>0.0</td>\n      <td>0.0</td>\n      <td>0.0</td>\n      <td>0.0</td>\n      <td>1.0</td>\n      <td>0.0</td>\n    </tr>\n    <tr>\n      <th>356</th>\n      <td>0.0</td>\n      <td>0.0</td>\n      <td>0.0</td>\n      <td>0.0</td>\n      <td>0.0</td>\n      <td>0.0</td>\n      <td>0.0</td>\n      <td>0.0</td>\n      <td>0.0</td>\n      <td>0.0</td>\n      <td>...</td>\n      <td>0.0</td>\n      <td>0.0</td>\n      <td>0.0</td>\n      <td>0.0</td>\n      <td>0.0</td>\n      <td>0.0</td>\n      <td>0.0</td>\n      <td>1.0</td>\n      <td>0.0</td>\n      <td>0.0</td>\n    </tr>\n    <tr>\n      <th>357</th>\n      <td>1.0</td>\n      <td>0.0</td>\n      <td>0.0</td>\n      <td>0.0</td>\n      <td>0.0</td>\n      <td>0.0</td>\n      <td>0.0</td>\n      <td>0.0</td>\n      <td>0.0</td>\n      <td>0.0</td>\n      <td>...</td>\n      <td>0.0</td>\n      <td>0.0</td>\n      <td>0.0</td>\n      <td>0.0</td>\n      <td>0.0</td>\n      <td>0.0</td>\n      <td>0.0</td>\n      <td>0.0</td>\n      <td>0.0</td>\n      <td>0.0</td>\n    </tr>\n  </tbody>\n</table>\n<p>358 rows × 358 columns</p>\n</div>"
     },
     "metadata": {},
     "execution_count": 60
    }
   ],
   "source": [
    "adj_matrix = get_adjacency_matrix(sensor_distance,358,id_filename=sensor_ids)\n",
    "pd.DataFrame(adj_matrix)"
   ]
  }
 ],
 "metadata": {
  "kernelspec": {
   "name": "python3",
   "display_name": "Python 3.7.0 64-bit"
  },
  "language_info": {
   "codemirror_mode": {
    "name": "ipython",
    "version": 3
   },
   "file_extension": ".py",
   "mimetype": "text/x-python",
   "name": "python",
   "nbconvert_exporter": "python",
   "pygments_lexer": "ipython3",
   "version": "3.7.0-final"
  },
  "interpreter": {
   "hash": "aee8b7b246df8f9039afb4144a1f6fd8d2ca17a180786b69acc140d282b71a49"
  }
 },
 "nbformat": 4,
 "nbformat_minor": 4
}